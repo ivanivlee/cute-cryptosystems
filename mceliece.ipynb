{
 "cells": [
  {
   "cell_type": "code",
   "execution_count": 8,
   "metadata": {},
   "outputs": [],
   "source": [
    "import numpy as np\n"
   ]
  },
  {
   "cell_type": "markdown",
   "metadata": {},
   "source": [
    "\n",
    "# The McEliece Cryptosystem\n",
    "\n",
    "## SETUP:\n",
    "- Let C be an (n,k)-linear code with a fast decoding algorithm that can correct t errors. \n",
    "- Let G be a generator matrix for C. \n",
    "- Let S be a k × k invertible matrix (the scrambler)\n",
    "- Let P be an n × n permutation matrix\n",
    "- The matrix, PK = SGP is made public (pubkey) while S, G and P are kept secret by Bob. \n",
    "\n"
   ]
  },
  {
   "cell_type": "code",
   "execution_count": 23,
   "metadata": {},
   "outputs": [
    {
     "name": "stdout",
     "output_type": "stream",
     "text": [
      "PublicKey:\n",
      " [[1 1 1 1 0 0 0]\n",
      " [1 1 0 0 1 0 0]\n",
      " [1 0 0 1 1 0 1]\n",
      " [0 1 0 1 1 1 0]]\n"
     ]
    }
   ],
   "source": [
    "n = 7\n",
    "k = 4\n",
    "G = np.array([[1,0,0,0,1,1,0],[0,1,0,0,1,0,1],[0,0,1,0,0,1,1],[0,0,0,1,1,1,1]])\n",
    "S = np.array([[1,1,0,1],[1,0,0,1],[0,1,1,1],[1,1,0,0]])\n",
    "P = np.array([[0,1,0,0,0,0,0],[0,0,0,1,0,0,0],[0,0,0,0,0,0,1],[1,0,0,0,0,0,0],[0,0,1,0,0,0,0],[0,0,0,0,0,1,0],[0,0,0,0,1,0,0]])\n",
    "PK = np.mod(np.matmul(np.matmul(S, G), P), 2)\n",
    "print(\"PublicKey:\\n\", PK)"
   ]
  },
  {
   "cell_type": "code",
   "execution_count": 3,
   "metadata": {},
   "outputs": [],
   "source": [
    "# For Alice to send a message to Bob, she blocks her message into binary vectors of length k.\n",
    "#  If x is one such block, she randomly constructs a binary n-vector of weight t,\n",
    "#  call it e and then sends to Bob the vector y = xG' + e."
   ]
  }
 ],
 "metadata": {
  "interpreter": {
   "hash": "e7370f93d1d0cde622a1f8e1c04877d8463912d04d973331ad4851f04de6915a"
  },
  "kernelspec": {
   "display_name": "Python 3.9.2 64-bit",
   "name": "python3"
  },
  "language_info": {
   "codemirror_mode": {
    "name": "ipython",
    "version": 3
   },
   "file_extension": ".py",
   "mimetype": "text/x-python",
   "name": "python",
   "nbconvert_exporter": "python",
   "pygments_lexer": "ipython3",
   "version": "3.9.2"
  },
  "orig_nbformat": 4
 },
 "nbformat": 4,
 "nbformat_minor": 2
}
