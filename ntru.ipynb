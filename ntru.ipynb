{
 "cells": [
  {
   "cell_type": "code",
   "execution_count": 3,
   "metadata": {},
   "outputs": [],
   "source": [
    "import numpy as np\n",
    "from ntru_tools import *"
   ]
  },
  {
   "cell_type": "markdown",
   "metadata": {},
   "source": [
    "# The NTRU Cryptosystem\n",
    "\n",
    "## SETUP:\n",
    "- Let N be an integer (prime)\n",
    "- Let q be a large modulus\n",
    "- Let p be a small modulus\n",
    "- Let d be a parameter (small integer)\n",
    "- Let f, g be two ternary polynomials, f in T(d+1, d), g in T(d, d) "
   ]
  },
  {
   "cell_type": "code",
   "execution_count": 4,
   "metadata": {},
   "outputs": [],
   "source": [
    "#Key generation (needs to be randomized)\n",
    "N = 11\n",
    "p = 3\n",
    "q = 32\n",
    "#f = [1,2,6,9,0,4,10] #[-1 + x + x^2 - x^4 + x^6 + x^9 - x^10], implementation uses sparse representation (all monomials with coef. 1 in increasing order, then all monomials with coef. -1)\n",
    "#g = [1,2,3,0,8,10] #[-1 + x + x^2 + x^3 - x^8 - x^10] \n",
    "f = random_poly(11, 3, 1)\n",
    "#fInvq = invert_poly()"
   ]
  }
 ],
 "metadata": {
  "interpreter": {
   "hash": "e7370f93d1d0cde622a1f8e1c04877d8463912d04d973331ad4851f04de6915a"
  },
  "kernelspec": {
   "display_name": "Python 3.9.2 64-bit",
   "language": "python",
   "name": "python3"
  },
  "language_info": {
   "codemirror_mode": {
    "name": "ipython",
    "version": 3
   },
   "file_extension": ".py",
   "mimetype": "text/x-python",
   "name": "python",
   "nbconvert_exporter": "python",
   "pygments_lexer": "ipython3",
   "version": "3.9.10"
  },
  "orig_nbformat": 4
 },
 "nbformat": 4,
 "nbformat_minor": 2
}
