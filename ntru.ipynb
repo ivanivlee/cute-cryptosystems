{
 "cells": [
  {
   "cell_type": "code",
   "execution_count": null,
   "metadata": {},
   "outputs": [],
   "source": [
    "import numpy as np"
   ]
  },
  {
   "cell_type": "markdown",
   "metadata": {},
   "source": [
    "# The McEliece Cryptosystem\n",
    "\n",
    "## SETUP:\n",
    "- Let C be an (n,k)-linear code with a fast decoding algorithm that can correct t errors. \n",
    "- Let G be a generator matrix for C. \n",
    "- Let S be a k × k invertible matrix (the scrambler)\n",
    "- Let P be an n × n permutation matrix\n",
    "- The matrix, PK = SGP is made public (pubkey) while S, G and P are kept secret by Bob. "
   ]
  }
 ],
 "metadata": {
  "language_info": {
   "name": "python"
  },
  "orig_nbformat": 4
 },
 "nbformat": 4,
 "nbformat_minor": 2
}
